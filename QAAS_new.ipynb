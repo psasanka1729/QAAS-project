{
 "cells": [
  {
   "cell_type": "code",
   "execution_count": 1,
   "id": "fcc61f64-4937-40c7-9a51-4a0ee92bab83",
   "metadata": {},
   "outputs": [],
   "source": [
    "from qiskit import QuantumCircuit\n",
    "from qiskit import Aer, transpile\n",
    "from qiskit.quantum_info import Statevector\n",
    "from qiskit import QuantumCircuit, execute, Aer, IBMQ, QuantumRegister\n",
    "from qiskit.providers.aer import QasmSimulator, StatevectorSimulator, UnitarySimulator\n",
    "from qiskit.compiler import transpile, assemble\n",
    "from qiskit.tools.monitor import job_monitor\n",
    "from qiskit.tools.visualization import plot_histogram, plot_state_city\n",
    "import qiskit.quantum_info as qi\n",
    "import numpy as np\n",
    "from numpy.linalg import inv\n",
    "from scipy.linalg import expm"
   ]
  },
  {
   "cell_type": "code",
   "execution_count": 2,
   "id": "f2a30f38-4d3a-4e28-98d4-b6ec88df302f",
   "metadata": {},
   "outputs": [],
   "source": [
    "sigma_X = np.matrix([[0, 1],\n",
    "                     [1, 0]])\n",
    "\n",
    "sigma_Y = np.matrix([[0, -1j],\n",
    "                     [1j, 0]])\n",
    "\n",
    "\n",
    "sigma_Z = np.matrix([[1, 0],\n",
    "                     [0, -1]])\n",
    "\n",
    "# U(theta) = exp(-i * theta/2 * sigma_x)\n",
    "def U(theta):\n",
    "     return expm(-1j*(theta/2)*sigma_X)"
   ]
  },
  {
   "cell_type": "code",
   "execution_count": 3,
   "id": "cd3f8909-c0d3-47e7-b599-44af77fc83ad",
   "metadata": {},
   "outputs": [
    {
     "name": "stdout",
     "output_type": "stream",
     "text": [
      "Statevector([0.+0.j, 0.-1.j],\n",
      "            dims=(2,))\n"
     ]
    }
   ],
   "source": [
    "vec = np.zeros(2)\n",
    "vec[0] = 1\n",
    "vec[1] = 0\n",
    "ket_zero = Statevector(vec, dims=(2,))\n",
    "initial_psi = ket_zero  \n",
    "theta = np.pi\n",
    "def Psi_Tilde(initial_psi,theta):\n",
    "    # Expectation value of pauli_y.\n",
    "    circ = QuantumCircuit(1)\n",
    "    circ.set_statevector(initial_psi)\n",
    "    circ.unitary(U(theta),0)\n",
    "    circ.save_state()\n",
    "\n",
    "    # Transpile for simulator\n",
    "    simulator = Aer.get_backend('aer_simulator')\n",
    "    circ = transpile(circ, simulator)\n",
    "\n",
    "    result = simulator.run(circ).result()\n",
    "    return result.data(0)['statevector']\n",
    "  \n",
    "Psi_Tilde(ket_zero,np.pi)"
   ]
  },
  {
   "cell_type": "code",
   "execution_count": 4,
   "id": "e7a09c00-cd5b-4984-b537-62d234691520",
   "metadata": {},
   "outputs": [
    {
     "name": "stdout",
     "output_type": "stream",
     "text": [
      "Statevector([1.+0.j, 0.-0.j],\n",
      "            dims=(2,))\n"
     ]
    }
   ],
   "source": [
    "def Exp_Sigma_Y(initial_psi,theta):\n",
    "    # Expectation value of pauli_y.\n",
    "    circ = QuantumCircuit(1)\n",
    "    circ.set_statevector(initial_psi)\n",
    "    circ.unitary(U(theta),0)\n",
    "    circ.y(0)\n",
    "    circ.save_state()\n",
    "    \n",
    "    # Transpile for simulator\n",
    "    simulator = Aer.get_backend('aer_simulator')\n",
    "    circ = transpile(circ, simulator)\n",
    "\n",
    "    result = simulator.run(circ).result()\n",
    "    return result.data(0)['statevector']   \n",
    "Exp_Sigma_Y(ket_zero,np.pi)"
   ]
  },
  {
   "cell_type": "code",
   "execution_count": 5,
   "id": "ac96e55f-f10f-4538-b53c-3e19f7de183a",
   "metadata": {},
   "outputs": [
    {
     "name": "stdout",
     "output_type": "stream",
     "text": [
      "Statevector([0.+6.123234e-17j, 0.+1.000000e+00j],\n",
      "            dims=(2,))\n"
     ]
    }
   ],
   "source": [
    "def Exp_Sigma_Z(initial_psi,theta):\n",
    "    # Expectation value of pauli_z.\n",
    "    circ_1 = QuantumCircuit(1)\n",
    "    circ_1.set_statevector(initial_psi)\n",
    "    circ_1.unitary(U(theta),0)\n",
    "    circ_1.z(0)\n",
    "    #circ.unitary(sigma_Z,0)\n",
    "    circ_1.save_state()\n",
    "    \n",
    "    #circ_1.measure_all()\n",
    "    # Transpile for simulator\n",
    "    simulator = Aer.get_backend('aer_simulator')\n",
    "    circ_1 = transpile(circ_1, simulator)\n",
    "\n",
    "    result = simulator.run(circ_1).result()\n",
    "    return 1j*result.data(0)['statevector']  # Brute force multiplication of i.\n",
    "Exp_Sigma_Z(ket_zero,np.pi)"
   ]
  },
  {
   "cell_type": "code",
   "execution_count": 6,
   "id": "be3ee0ed-780a-470f-85f3-da54465f09ba",
   "metadata": {},
   "outputs": [],
   "source": [
    "def Inner_Product(Statevector_1,Statevector_2):\n",
    "    \n",
    "    v_1 = (np.matrix([[Statevector_1[0]],[Statevector_1[1]]])).getH()\n",
    "    v_2 = np.matrix([[Statevector_2[0]],[Statevector_2[1]]])\n",
    "    \n",
    "    return np.matmul(v_1,v_2)[0,0]"
   ]
  },
  {
   "cell_type": "code",
   "execution_count": 7,
   "id": "d9f62599-7fbc-4471-842c-64cac0fcb9c7",
   "metadata": {},
   "outputs": [
    {
     "data": {
      "text/plain": [
       "0j"
      ]
     },
     "execution_count": 7,
     "metadata": {},
     "output_type": "execute_result"
    }
   ],
   "source": [
    "Inner_Product(Psi_Tilde(ket_zero,np.pi),Exp_Sigma_Y(ket_zero,np.pi))"
   ]
  },
  {
   "cell_type": "code",
   "execution_count": 8,
   "id": "b7a1156c-30ee-46f9-989a-7e3f1ace1827",
   "metadata": {},
   "outputs": [
    {
     "data": {
      "text/plain": [
       "(-1+0j)"
      ]
     },
     "execution_count": 8,
     "metadata": {},
     "output_type": "execute_result"
    }
   ],
   "source": [
    "Inner_Product(Psi_Tilde(ket_zero,np.pi),Exp_Sigma_Z(ket_zero,np.pi))"
   ]
  },
  {
   "cell_type": "code",
   "execution_count": 25,
   "id": "08ca0c21-45b0-4485-9829-0aba1d54f9dc",
   "metadata": {},
   "outputs": [],
   "source": [
    "#f = open('QAAS_data'+'.txt', 'w')\n",
    "\n",
    "# Initial values.\n",
    "alpha = 1\n",
    "theta = np.pi\n",
    "\n",
    "alpha_s = []\n",
    "theta_s = []\n",
    "\n",
    "psi = ket_zero\n",
    "Prob = []\n",
    "\n",
    "t = 0\n",
    "dt = 0.15\n",
    "T = []\n",
    "while t < 8:\n",
    "    alpha_dot = -(alpha/2) * Inner_Product(Psi_Tilde(psi,theta),Exp_Sigma_Y(psi,theta))\n",
    "    theta_dot = 2+Inner_Product(Psi_Tilde(psi,theta),Exp_Sigma_Z(psi,theta))\n",
    "    psi = Psi_Tilde(psi,theta) # new psi.\n",
    "    \n",
    "    #print(alpha, alpha_dot)\n",
    "\n",
    "    #print(theta, theta_dot)\n",
    "    \n",
    "    alpha = alpha + (dt * alpha_dot)\n",
    "    theta = theta + (dt * theta_dot)\n",
    "    alpha = alpha.real\n",
    "    theta = theta.real\n",
    "\n",
    "    alpha_s.append(alpha)\n",
    "    theta_s.append(theta)\n",
    "    Prob.append((Inner_Product(Psi_Tilde(psi,theta),Psi_Tilde(psi,theta))).real)\n",
    "    #f = open('QAAS_data'+'.txt', 'a')\n",
    "    #f.write(str(t)+ '\\t' + str(alpha) + '\\t' + str(theta) + '\\t' + str(psi[0,0]) + '\\t' + str(psi[1,0]) +'\\n')\n",
    "    t += dt\n",
    "    T.append(t)\n",
    "    #print(t)\n",
    "    #print(alpha)\n",
    "    #print(theta)"
   ]
  },
  {
   "cell_type": "code",
   "execution_count": 10,
   "id": "29593ed7-c342-436d-9b88-66fc6f410713",
   "metadata": {},
   "outputs": [],
   "source": [
    "import matplotlib.pyplot as plt"
   ]
  },
  {
   "cell_type": "code",
   "execution_count": 27,
   "id": "ee26b50f-d6ae-4613-9fc3-86b846002413",
   "metadata": {},
   "outputs": [
    {
     "data": {
      "image/png": "[encoded data removed]",
      "text/plain": [
       "<Figure size 432x288 with 1 Axes>"
      ]
     },
     "metadata": {
      "needs_background": "light"
     },
     "output_type": "display_data"
    }
   ],
   "source": [
    "plt.plot(T,alpha_s)\n",
    "plt.show()"
   ]
  },
  {
   "cell_type": "code",
   "execution_count": 26,
   "id": "e9e1e4d9-326f-40aa-92fa-e52b9ea48107",
   "metadata": {},
   "outputs": [
    {
     "data": {
      "image/png": "[encoded data removed]",
      "text/plain": [
       "<Figure size 432x288 with 1 Axes>"
      ]
     },
     "metadata": {
      "needs_background": "light"
     },
     "output_type": "display_data"
    }
   ],
   "source": [
    "plt.plot(T,Prob)\n",
    "plt.show()"
   ]
  },
  {
   "cell_type": "code",
   "execution_count": 19,
   "id": "adb21655-67b9-49df-8021-2d5e6d5a6b8f",
   "metadata": {},
   "outputs": [
    {
     "data": {
      "text/plain": [
       "[-0.07492970727274226,\n",
       " -0.9553364891256062,\n",
       " 0.6248973167276992,\n",
       " 0.3623577544766747,\n",
       " -0.9540857816096942,\n",
       " 0.9040721420170602,\n",
       " -0.5084702834699674,\n",
       " 0.08749898343944379,\n",
       " 0.2066847319005266,\n",
       " -0.34663531783502943,\n",
       " 0.3426892214100688,\n",
       " -0.19432990645534082,\n",
       " -0.10841586764961497,\n",
       " 0.5335843865891119,\n",
       " -0.9195904329140482,\n",
       " 0.9392203466968736,\n",
       " -0.3109083277018719,\n",
       " -0.6728503883183373,\n",
       " 0.9317975062952214,\n",
       " 0.15425144988757164,\n",
       " -0.9961061032137871,\n",
       " -0.17084230974764048,\n",
       " 0.9190662104975034,\n",
       " 0.7092961252257233,\n",
       " -0.24632812416515942,\n",
       " -0.9070732493296086,\n",
       " -0.9544839839472232,\n",
       " -0.6292096416028825,\n",
       " -0.24075817524847465,\n",
       " 0.04422762066183575,\n",
       " 0.18063401568318443,\n",
       " 0.1682164076740593,\n",
       " 0.00640894945959028,\n",
       " -0.30143950709606676,\n",
       " -0.6952826214333554,\n",
       " -0.9821225956675315,\n",
       " -0.8401488248441902,\n",
       " -0.08484442450504576,\n",
       " 0.8291941641788956,\n",
       " 0.8141809705265292,\n",
       " -0.399795616658362,\n",
       " -0.9383022612367525,\n",
       " 0.4303885964878259,\n",
       " 0.7733183336235158,\n",
       " -0.8812746956992806,\n",
       " 0.04955069454626543,\n",
       " 0.7375334983714326,\n",
       " -0.9999230707263977,\n",
       " 0.8437428877438964,\n",
       " -0.5440337574620251,\n",
       " 0.291940864170093,\n",
       " -0.16649486536030828,\n",
       " 0.1871815628643263,\n",
       " -0.35162891941637525]"
      ]
     },
     "execution_count": 23,
     "metadata": {},
     "output_type": "execute_result"
    }
   ],
   "source": [
    "Prob"
   ]
  }
 ],
 "metadata": {
  "kernelspec": {
   "display_name": "Python 3 (ipykernel)",
   "language": "python",
   "name": "python3"
  },
  "language_info": {
   "codemirror_mode": {
    "name": "ipython",
    "version": 3
   },
   "file_extension": ".py",
   "mimetype": "text/x-python",
   "name": "python",
   "nbconvert_exporter": "python",
   "pygments_lexer": "ipython3",
   "version": "3.9.12"
  }
 },
 "nbformat": 4,
 "nbformat_minor": 5
}
