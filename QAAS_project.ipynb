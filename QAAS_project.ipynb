{
 "cells": [
  {
   "cell_type": "markdown",
   "id": "4023bb06-b86a-4cab-833c-75325d672b7b",
   "metadata": {},
   "source": [
    "# Variational quantum simulation"
   ]
  },
  {
   "cell_type": "markdown",
   "id": "ce1b78f6-3903-4845-9540-311f0dac02bf",
   "metadata": {},
   "source": [
    "The matrix equation becomes\n",
    "\n",
    "$$\n",
    "\\begin{pmatrix}\n",
    "    1 & 0\\\\\n",
    "    0 & \\frac{\\alpha^{2}}{4}\n",
    "\\end{pmatrix}\n",
    "\\begin{pmatrix}\n",
    "    \\dot{\\alpha}\\\\\n",
    "    \\dot{\\theta}\n",
    "\\end{pmatrix}\n",
    "= \n",
    "\\begin{pmatrix}\n",
    "    \\frac{\\alpha}{2}  <\\tilde{\\Psi}(\\theta)| \\sigma_{y} |\\tilde{\\Psi}(\\theta)>\\\\\n",
    "    \\frac{\\alpha^{2}}{2}(1-\\frac{1}{2}<\\tilde{\\Psi}(\\theta)| \\sigma_{z} |\\tilde{\\Psi}(\\theta)>)\n",
    "\\end{pmatrix}\n",
    "$$\n",
    "\n",
    "$$\n",
    "\\begin{pmatrix}\n",
    "    \\dot{\\alpha}\\\\\n",
    "    \\dot{\\theta}\n",
    "\\end{pmatrix}\n",
    "= \n",
    "\\text{Inverse}(\\begin{pmatrix}\n",
    "    1 & 0\\\\\n",
    "    0 & \\frac{\\alpha^{2}}{4}\n",
    "\\end{pmatrix})\n",
    "\\begin{pmatrix}\n",
    "    \\frac{\\alpha}{2} <\\tilde{\\Psi}(\\theta)| \\sigma_{y} |\\tilde{\\Psi}(\\theta)>\\\\\n",
    "    \\frac{\\alpha^{2}}{2}(1-\\frac{1}{2}<\\tilde{\\Psi}(\\theta)| \\sigma_{z} |\\tilde{\\Psi}(\\theta)>)\n",
    "\\end{pmatrix}\n",
    "$$"
   ]
  },
  {
   "cell_type": "markdown",
   "id": "e09eb37b-8d22-40e8-86f1-dd2a4bc026a4",
   "metadata": {},
   "source": [
    "### Variables at a later time"
   ]
  },
  {
   "cell_type": "markdown",
   "id": "745f3fc7-488d-4405-ba5c-798a9bfff7d5",
   "metadata": {},
   "source": [
    "Euler algorithm to determine the variables at a later time\n",
    "$$\n",
    "\\begin{pmatrix}\n",
    "    \\alpha(t+dt)\\\\\n",
    "    \\theta(t+dt)\n",
    "\\end{pmatrix}\n",
    "= \\begin{pmatrix}\n",
    "    \\alpha(t)\\\\\n",
    "    \\theta(t)\n",
    "\\end{pmatrix}+\n",
    "dt\n",
    "\\begin{pmatrix}\n",
    "    \\dot{\\alpha}\\\\\n",
    "    \\dot{\\theta}\n",
    "\\end{pmatrix}\n",
    "$$"
   ]
  },
  {
   "cell_type": "markdown",
   "id": "dc0ae423-ae65-4e9c-b93c-7e1b3aea8403",
   "metadata": {},
   "source": [
    "### Expectation values of Pauli operators"
   ]
  },
  {
   "cell_type": "code",
   "execution_count": 1,
   "id": "0231c4b9-a7c4-4c71-9eda-ad052fb52276",
   "metadata": {},
   "outputs": [],
   "source": [
    "import numpy as np\n",
    "from numpy.linalg import inv\n",
    "from scipy.linalg import expm\n",
    "from qiskit import QuantumCircuit\n",
    "from qiskit.opflow import X, Y, Z, I\n",
    "from qiskit.opflow import CircuitStateFn\n",
    "from qiskit.opflow.state_fns import StateFn\n",
    "from qiskit.opflow.expectations import PauliExpectation\n",
    "from qiskit.opflow.converters import CircuitSampler\n",
    "from qiskit.providers.aer import QasmSimulator\n",
    "\n",
    "# U_1(theta) = exp(-i * theta/2 * sigma_x)\n",
    "sigma_X = np.matrix([[0, 1], [1, 0]])\n",
    "def U_1(theta):\n",
    "     return expm(-1j*theta*0.5*sigma_X)\n",
    "    \n",
    "def Expectation_Values(theta_1):\n",
    "    \n",
    "    psi = QuantumCircuit(1) # Initially |psi> = |0>.\n",
    "    \n",
    "    psi.unitary(U_1(theta_1),0)\n",
    "    \n",
    "    psi = CircuitStateFn(psi)\n",
    "    \n",
    "    # Choosing the operator whose expectation to be measured.\n",
    "    op_0 = Y\n",
    "    # Performing <psi | op |psi>.\n",
    "    measurable_expression = StateFn(op_0, is_measurement = True).compose(psi)\n",
    "\n",
    "    # Expectation value in the sigma_z basis aka computational basis.\n",
    "    expectation = PauliExpectation().convert(measurable_expression)\n",
    "\n",
    "    # Simulating.\n",
    "    simulator = QasmSimulator()\n",
    "    sampler = CircuitSampler(simulator).convert(expectation)\n",
    "    V_0 = sampler.eval().real # Returning the <psi | sigma_y |psi>.\n",
    "    \n",
    "    #psi = QuantumCircuit(1)\n",
    "    #psi.x(0)\n",
    "    #psi = CircuitStateFn(psi)\n",
    "    \n",
    "    # Choosing the operator whose expectation to be measured.\n",
    "    op_1 = Z\n",
    "    # Performing <psi | op |psi>.\n",
    "    measurable_expression = StateFn(op_1, is_measurement = True).compose(psi)\n",
    "\n",
    "    # Expectation value in the sigma_z basis aka computational basis.\n",
    "    expectation = PauliExpectation().convert(measurable_expression)\n",
    "\n",
    "    # Simulating.\n",
    "    simulator = QasmSimulator()\n",
    "    sampler = CircuitSampler(simulator).convert(expectation)\n",
    "    V_1 = sampler.eval().real # Returning the <psi | sigma_z |psi>.  \n",
    "    \n",
    "    return V_0, V_1 # <psi|sigma_y|psi>, <psi|sigma_z|psi>."
   ]
  },
  {
   "cell_type": "code",
   "execution_count": 2,
   "id": "2906c34c-8afe-455d-9e3f-da9e85337661",
   "metadata": {},
   "outputs": [],
   "source": [
    "t = 0.0\n",
    "dt = 0.15\n",
    "Time = [t]\n",
    "\n",
    "alpha_0 = 1\n",
    "theta_0 = np.pi\n",
    "\n",
    "alpha = alpha_0\n",
    "theta = theta_0\n",
    "\n",
    "alpha_s = [alpha]\n",
    "theta_s = [theta]\n",
    "\n",
    "# Run the expectation value.\n",
    "M = Expectation_Values(theta)\n",
    "while t < 5:\n",
    "    \n",
    "    alpha_dot = (alpha/2) * M[0]\n",
    "    theta_dot = 2-M[1]\n",
    "    \n",
    "    alpha = alpha + dt * alpha_dot\n",
    "    theta = theta + dt * theta_dot\n",
    "    \n",
    "    alpha_s.append(alpha)\n",
    "    theta_s.append(theta)\n",
    "    t = t + dt\n",
    "    Time.append(t)\n",
    "    \n",
    "    # Running with updated values of theta.\n",
    "    M = Expectation_Values(theta) "
   ]
  },
  {
   "cell_type": "code",
   "execution_count": 3,
   "id": "b5b5782a-c3b5-4aa6-8e42-92c99ca14aaf",
   "metadata": {},
   "outputs": [],
   "source": [
    "theta_0 = np.pi\n",
    "ket_zero = np.matrix([[1],[0]])\n",
    "def L(alpha_list, theta_list):\n",
    "    overlap_list = []\n",
    "    psi_tilde_zero = expm(-1j*theta_0*0.5*sigma_X)*ket_zero\n",
    "    for i in range(len(theta_list)):\n",
    "        psi_tilde_t    = expm(-1j * theta_list[i] * 0.5*sigma_X)*ket_zero\n",
    "        overlap_list.append((alpha_list[i]*abs(psi_tilde_t.getH()*psi_tilde_zero)).tolist()[0][0])\n",
    "    return overlap_list"
   ]
  },
  {
   "cell_type": "code",
   "execution_count": 4,
   "id": "3fb02021-9291-4bb3-9371-d8065e7360d4",
   "metadata": {},
   "outputs": [
    {
     "data": {
      "image/png": "[encoded data removed]",
      "text/plain": [
       "<Figure size 432x288 with 1 Axes>"
      ]
     },
     "metadata": {
      "needs_background": "light"
     },
     "output_type": "display_data"
    }
   ],
   "source": [
    "import matplotlib.pyplot as plt\n",
    "plt.plot(Time,L(alpha_s,theta_s))\n",
    "plt.show()"
   ]
  },
  {
   "cell_type": "markdown",
   "id": "61f7b698-9e75-4726-b280-3049aff73993",
   "metadata": {},
   "source": [
    "### Previous code"
   ]
  },
  {
   "cell_type": "code",
   "execution_count": 5,
   "id": "4efcca69-57a1-4302-8c88-e5408c1d504f",
   "metadata": {},
   "outputs": [],
   "source": [
    "sigma_X = np.matrix([[0, 1], [1, 0]])\n",
    "sigma_Y = np.matrix([[0,-1j],[1j,0]])\n",
    "sigma_Z = np.matrix([[0,1],[1,0]])\n",
    "def Psi_ansatz(alpha,theta,state_initial):\n",
    "    return alpha * np.exp(-(1j/2)*theta*sigma_X)*state_initial\n",
    "\n",
    "def Psi_tilde(theta,state_initial):\n",
    "    return np.exp(-(1j/2)*theta*Pauli_X)*state_initial"
   ]
  },
  {
   "cell_type": "markdown",
   "id": "fa5c501f-df2b-42ca-9958-8070d296ebfa",
   "metadata": {},
   "source": [
    "### Loads the IBM Quantum"
   ]
  },
  {
   "cell_type": "markdown",
   "id": "31453461-40b0-426a-a8f6-e2ff756317b8",
   "metadata": {},
   "source": [
    "### Circuit for $M_{ij}$"
   ]
  },
  {
   "cell_type": "markdown",
   "id": "c4d781c7-eed4-4c0a-90e7-00094cd4d7ad",
   "metadata": {},
   "source": [
    "### Circuit for $V_{j}$"
   ]
  },
  {
   "cell_type": "code",
   "execution_count": null,
   "id": "039c03ad-e9fb-4e6c-9ac5-e6479989e4b3",
   "metadata": {},
   "outputs": [],
   "source": []
  }
 ],
 "metadata": {
  "kernelspec": {
   "display_name": "Python 3 (ipykernel)",
   "language": "python",
   "name": "python3"
  },
  "language_info": {
   "codemirror_mode": {
    "name": "ipython",
    "version": 3
   },
   "file_extension": ".py",
   "mimetype": "text/x-python",
   "name": "python",
   "nbconvert_exporter": "python",
   "pygments_lexer": "ipython3",
   "version": "3.9.12"
  }
 },
 "nbformat": 4,
 "nbformat_minor": 5
}
