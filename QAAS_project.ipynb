{
 "cells": [
  {
   "cell_type": "code",
   "execution_count": 32,
   "id": "d0f8cf99-5f7f-4551-b73c-2029226afd9d",
   "metadata": {},
   "outputs": [],
   "source": [
    "import numpy as np\n",
    "from qiskit import*\n",
    "from scipy.linalg import expm # exponentiation of matrix."
   ]
  },
  {
   "cell_type": "code",
   "execution_count": 3,
   "id": "4efcca69-57a1-4302-8c88-e5408c1d504f",
   "metadata": {},
   "outputs": [],
   "source": [
    "sigma_X = np.matrix([[0, 1], [1, 0]])\n",
    "sigma_Y = np.matrix([[0,-1j],[1j,0]])\n",
    "sigma_Z = np.matrix([[0,1],[1,0]])\n",
    "def Psi_ansatz(alpha,theta,state_initial):\n",
    "    return alpha * np.exp(-(1j/2)*theta*sigma_X)*state_initial\n",
    "\n",
    "def Psi_tilde(theta,state_initial):\n",
    "    return np.exp(-(1j/2)*theta*Pauli_X)*state_initial"
   ]
  },
  {
   "cell_type": "code",
   "execution_count": null,
   "id": "677c765c-996a-4bf3-900a-f6665684cd6e",
   "metadata": {},
   "outputs": [],
   "source": []
  },
  {
   "cell_type": "markdown",
   "id": "31453461-40b0-426a-a8f6-e2ff756317b8",
   "metadata": {},
   "source": [
    "### Circuit for $M_{ij}$"
   ]
  },
  {
   "cell_type": "code",
   "execution_count": 43,
   "id": "a4f12359-fbf3-43f0-9528-d5b720d45f6c",
   "metadata": {},
   "outputs": [
    {
     "data": {
      "image/png": "[encoded data removed]",
      "text/plain": [
       "<Figure size 538.279x144.48 with 1 Axes>"
      ]
     },
     "execution_count": 43,
     "metadata": {},
     "output_type": "execute_result"
    }
   ],
   "source": [
    "qc = QuantumCircuit(1)\n",
    "\n",
    "theta_initial = np.pi\n",
    "\n",
    "# Defining the U1 gate.\n",
    "def U_1(theta):\n",
    "     return expm(-1j*theta*0.5*sigma_X)\n",
    "    \n",
    "P_1 = sigma_X # P_1 is sigma_X in our case.     \n",
    "    \n",
    "    \n",
    "qc.unitary(U_1(theta_initial),0)\n",
    "qc.x(0)\n",
    "qc.unitary(U_1(theta_initial),0)\n",
    "qc.measure_all()\n",
    "qc.draw(\"mpl\")"
   ]
  },
  {
   "cell_type": "markdown",
   "id": "c4d781c7-eed4-4c0a-90e7-00094cd4d7ad",
   "metadata": {},
   "source": [
    "### Circuit for $V_{j}$"
   ]
  }
 ],
 "metadata": {
  "kernelspec": {
   "display_name": "Python 3 (ipykernel)",
   "language": "python",
   "name": "python3"
  },
  "language_info": {
   "codemirror_mode": {
    "name": "ipython",
    "version": 3
   },
   "file_extension": ".py",
   "mimetype": "text/x-python",
   "name": "python",
   "nbconvert_exporter": "python",
   "pygments_lexer": "ipython3",
   "version": "3.9.12"
  }
 },
 "nbformat": 4,
 "nbformat_minor": 5
}
